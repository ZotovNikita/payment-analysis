{
 "cells": [
  {
   "cell_type": "markdown",
   "metadata": {},
   "source": [
    "# Предобработка данных"
   ]
  },
  {
   "cell_type": "markdown",
   "metadata": {},
   "source": [
    "Подключим необходимые библиотеки."
   ]
  },
  {
   "cell_type": "code",
   "execution_count": 54,
   "metadata": {},
   "outputs": [],
   "source": [
    "import pandas as pd\n",
    "from typing import List"
   ]
  },
  {
   "cell_type": "markdown",
   "metadata": {},
   "source": [
    "Загрузим размеченный набор данных и посмотрим на него. При этом в предоставленных данных отсутствуют названия столбцов, поэтому назовем их сами."
   ]
  },
  {
   "cell_type": "code",
   "execution_count": 68,
   "metadata": {},
   "outputs": [],
   "source": [
    "data_markedup_path = '../data/payments_training.tsv'\n",
    "\n",
    "data_markedup = pd.read_csv(data_markedup_path, encoding='utf-8', header=None,  names=['index', 'date', 'cash', 'description', 'type'], sep='\\t', index_col=0)"
   ]
  },
  {
   "cell_type": "code",
   "execution_count": 69,
   "metadata": {},
   "outputs": [
    {
     "data": {
      "text/html": [
       "<div>\n",
       "<style scoped>\n",
       "    .dataframe tbody tr th:only-of-type {\n",
       "        vertical-align: middle;\n",
       "    }\n",
       "\n",
       "    .dataframe tbody tr th {\n",
       "        vertical-align: top;\n",
       "    }\n",
       "\n",
       "    .dataframe thead th {\n",
       "        text-align: right;\n",
       "    }\n",
       "</style>\n",
       "<table border=\"1\" class=\"dataframe\">\n",
       "  <thead>\n",
       "    <tr style=\"text-align: right;\">\n",
       "      <th></th>\n",
       "      <th>date</th>\n",
       "      <th>cash</th>\n",
       "      <th>description</th>\n",
       "      <th>type</th>\n",
       "    </tr>\n",
       "    <tr>\n",
       "      <th>index</th>\n",
       "      <th></th>\n",
       "      <th></th>\n",
       "      <th></th>\n",
       "      <th></th>\n",
       "    </tr>\n",
       "  </thead>\n",
       "  <tbody>\n",
       "    <tr>\n",
       "      <th>1</th>\n",
       "      <td>07.11.2024</td>\n",
       "      <td>15300.00</td>\n",
       "      <td>За участие в конференции в г. Майкоп по догово...</td>\n",
       "      <td>SERVICE</td>\n",
       "    </tr>\n",
       "    <tr>\n",
       "      <th>2</th>\n",
       "      <td>07.11.2024</td>\n",
       "      <td>40200,00</td>\n",
       "      <td>За оказание услуг по договору №79-02726В от 01...</td>\n",
       "      <td>SERVICE</td>\n",
       "    </tr>\n",
       "    <tr>\n",
       "      <th>3</th>\n",
       "      <td>07.11.2024</td>\n",
       "      <td>1440-00</td>\n",
       "      <td>Оплата за Порошок стиральный Ariel Color autom...</td>\n",
       "      <td>NON_FOOD_GOODS</td>\n",
       "    </tr>\n",
       "    <tr>\n",
       "      <th>4</th>\n",
       "      <td>07.11.2024</td>\n",
       "      <td>240000000-00</td>\n",
       "      <td>Возврат денежных средств по договору займа №04...</td>\n",
       "      <td>LOAN</td>\n",
       "    </tr>\n",
       "    <tr>\n",
       "      <th>5</th>\n",
       "      <td>07.11.2024</td>\n",
       "      <td>1360000.00</td>\n",
       "      <td>Оплата Дог №452 от 13/03/2021, согл. Сч 0745-2...</td>\n",
       "      <td>NOT_CLASSIFIED</td>\n",
       "    </tr>\n",
       "    <tr>\n",
       "      <th>...</th>\n",
       "      <td>...</td>\n",
       "      <td>...</td>\n",
       "      <td>...</td>\n",
       "      <td>...</td>\n",
       "    </tr>\n",
       "    <tr>\n",
       "      <th>496</th>\n",
       "      <td>07.11.2024</td>\n",
       "      <td>2610.00</td>\n",
       "      <td>Оплата налогов</td>\n",
       "      <td>TAX</td>\n",
       "    </tr>\n",
       "    <tr>\n",
       "      <th>497</th>\n",
       "      <td>07.11.2024</td>\n",
       "      <td>31200-00</td>\n",
       "      <td>Комиссия за выполнение функций агента валютног...</td>\n",
       "      <td>BANK_SERVICE</td>\n",
       "    </tr>\n",
       "    <tr>\n",
       "      <th>498</th>\n",
       "      <td>07.11.2024</td>\n",
       "      <td>18200-00</td>\n",
       "      <td>За тур.поездку по договору №75-04243Г от 24/04...</td>\n",
       "      <td>SERVICE</td>\n",
       "    </tr>\n",
       "    <tr>\n",
       "      <th>499</th>\n",
       "      <td>07.11.2024</td>\n",
       "      <td>2870000,00</td>\n",
       "      <td>Оплата по договору №095 от 24.02.2025г, счету ...</td>\n",
       "      <td>FOOD_GOODS</td>\n",
       "    </tr>\n",
       "    <tr>\n",
       "      <th>500</th>\n",
       "      <td>07.11.2024</td>\n",
       "      <td>2210-00</td>\n",
       "      <td>Оплата коммунальных услуг</td>\n",
       "      <td>SERVICE</td>\n",
       "    </tr>\n",
       "  </tbody>\n",
       "</table>\n",
       "<p>500 rows × 4 columns</p>\n",
       "</div>"
      ],
      "text/plain": [
       "             date          cash  \\\n",
       "index                             \n",
       "1      07.11.2024      15300.00   \n",
       "2      07.11.2024      40200,00   \n",
       "3      07.11.2024       1440-00   \n",
       "4      07.11.2024  240000000-00   \n",
       "5      07.11.2024    1360000.00   \n",
       "...           ...           ...   \n",
       "496    07.11.2024       2610.00   \n",
       "497    07.11.2024      31200-00   \n",
       "498    07.11.2024      18200-00   \n",
       "499    07.11.2024    2870000,00   \n",
       "500    07.11.2024       2210-00   \n",
       "\n",
       "                                             description            type  \n",
       "index                                                                     \n",
       "1      За участие в конференции в г. Майкоп по догово...         SERVICE  \n",
       "2      За оказание услуг по договору №79-02726В от 01...         SERVICE  \n",
       "3      Оплата за Порошок стиральный Ariel Color autom...  NON_FOOD_GOODS  \n",
       "4      Возврат денежных средств по договору займа №04...            LOAN  \n",
       "5      Оплата Дог №452 от 13/03/2021, согл. Сч 0745-2...  NOT_CLASSIFIED  \n",
       "...                                                  ...             ...  \n",
       "496                                       Оплата налогов             TAX  \n",
       "497    Комиссия за выполнение функций агента валютног...    BANK_SERVICE  \n",
       "498    За тур.поездку по договору №75-04243Г от 24/04...         SERVICE  \n",
       "499    Оплата по договору №095 от 24.02.2025г, счету ...      FOOD_GOODS  \n",
       "500                            Оплата коммунальных услуг         SERVICE  \n",
       "\n",
       "[500 rows x 4 columns]"
      ]
     },
     "execution_count": 69,
     "metadata": {},
     "output_type": "execute_result"
    }
   ],
   "source": [
    "data_markedup"
   ]
  },
  {
   "cell_type": "markdown",
   "metadata": {},
   "source": [
    "Проверим, есть ли в данных дублирующиеся строки."
   ]
  },
  {
   "cell_type": "code",
   "execution_count": 70,
   "metadata": {},
   "outputs": [
    {
     "name": "stdout",
     "output_type": "stream",
     "text": [
      "Количество дубликатов в датасете: 1\n"
     ]
    }
   ],
   "source": [
    "print(f'Количество дубликатов в датасете: {data_markedup.duplicated().sum()}')"
   ]
  },
  {
   "cell_type": "markdown",
   "metadata": {},
   "source": [
    "Как видим, в данных есть одна повторяющаяся строка, удалим ее."
   ]
  },
  {
   "cell_type": "code",
   "execution_count": 71,
   "metadata": {},
   "outputs": [
    {
     "data": {
      "text/plain": [
       "499"
      ]
     },
     "execution_count": 71,
     "metadata": {},
     "output_type": "execute_result"
    }
   ],
   "source": [
    "data_markedup = data_markedup.drop_duplicates()\n",
    "\n",
    "data_markedup.shape[0]"
   ]
  },
  {
   "cell_type": "markdown",
   "metadata": {},
   "source": [
    "Посмотрим информацию о датасете."
   ]
  },
  {
   "cell_type": "code",
   "execution_count": 72,
   "metadata": {},
   "outputs": [
    {
     "name": "stdout",
     "output_type": "stream",
     "text": [
      "<class 'pandas.core.frame.DataFrame'>\n",
      "Index: 499 entries, 1 to 500\n",
      "Data columns (total 4 columns):\n",
      " #   Column       Non-Null Count  Dtype \n",
      "---  ------       --------------  ----- \n",
      " 0   date         499 non-null    object\n",
      " 1   cash         499 non-null    object\n",
      " 2   description  499 non-null    object\n",
      " 3   type         499 non-null    object\n",
      "dtypes: object(4)\n",
      "memory usage: 19.5+ KB\n"
     ]
    }
   ],
   "source": [
    "data_markedup.info()"
   ]
  },
  {
   "cell_type": "markdown",
   "metadata": {},
   "source": [
    "В датасете нет пропусков, поэтому их не нужно предобрабатывать."
   ]
  },
  {
   "cell_type": "markdown",
   "metadata": {},
   "source": [
    "Взглянув на датасет, можно понять, что столбец \"cash\" с суммой денег имеет неунифицированный вид: значения могут быть записаны через запятую, через дифис, с разделителем тысяч в виде пробела.\n",
    "\n",
    "Напишем функцию по унифицированию суммы."
   ]
  },
  {
   "cell_type": "code",
   "execution_count": null,
   "metadata": {},
   "outputs": [],
   "source": [
    "def unify_cash_format(cash_values: List[str]) -> List[float]:\n",
    "    '''\n",
    "    Функция принимает список строк, представляющих денежные суммы в различных форматах\n",
    "    и преобразует их в унифицированный формат float. Функция обрабатывает различные разделители,\n",
    "    такие как запятые, точки и дефисы, и гарантирует, что все значения правильно преобразованы\n",
    "    в тип float.\n",
    "\n",
    "    param cash_values (List[str]): Список строк, где каждая строка представляет собой денежную сумму.\n",
    "\n",
    "    return unified_values (List[float]): Список float, где каждый float является унифицированным представлением денежной суммы.\n",
    "    '''\n",
    "    unified_values = []  # Список для хранения унифицированных значений\n",
    "    for value in cash_values:\n",
    "        # Проверяем, является ли значение строкой\n",
    "        if isinstance(value, str):\n",
    "            # Заменяем запятые на точки для корректного преобразования десятичных дробей\n",
    "            value = value.replace(',', '.')\n",
    "            # Удаляем дефисы\n",
    "            value = value.replace('-', '.')\n",
    "            # Удаляем разделители тысяч\n",
    "            value = value.replace(' ', '.')\n",
    "        try:\n",
    "            unified_value = float(value)   # Преобразуем значение в float\n",
    "            unified_values.append(unified_value)  # Добавляем преобразованное значение в список\n",
    "        except ValueError:\n",
    "            # Обрабатываем ошибки преобразования\n",
    "            print(f\"Предупреждение: Не удалось преобразовать значение '{value}' в float.\")\n",
    "            unified_values.append(0.0)  # Добавляем значение по умолчанию в случае ошибки\n",
    "    return unified_values  # Возвращаем список унифицированных значений"
   ]
  },
  {
   "cell_type": "markdown",
   "metadata": {},
   "source": [
    "Напишем функцию по полной предобработке датасета, которая:\n",
    "- загружает файл с набором данных; \n",
    "- удаляет повторяющиеся строки;\n",
    "- унифицирует колонку с суммой;\n",
    "- удаляет колонку с датой, так как она имеет всего одно уникальное значение и не несет никакой информации (скорее всего, это значение является датой выгрузки данных из базы)."
   ]
  },
  {
   "cell_type": "code",
   "execution_count": 83,
   "metadata": {},
   "outputs": [],
   "source": [
    "def preprocess_data(file_path: str, columns: List[str], unified_column: str, droped_column: str) -> pd.DataFrame:\n",
    "    '''\n",
    "    Эта функция загружает данные из TSV файла, обрабатывает столбец с денежными суммами,\n",
    "    унифицируя их формат, и возвращает обновленный DataFrame.\n",
    "\n",
    "    param file_path (str): Путь к TSV файлу, содержащему данные.\n",
    "    param columns (List[str]): Список названий столбцов предобрабатываемого датафрейма. \n",
    "\n",
    "    return data (pd.DataFrame): Обновленный DataFrame с унифицированными денежными суммами в столбце 'cash'.\n",
    "    '''\n",
    "    \n",
    "    # Проверка наличия unified_column и droped_column в columns\n",
    "    if unified_column not in columns:\n",
    "        raise ValueError(f\"Столбец '{unified_column}' не найден в списке столбцов.\")\n",
    "    if droped_column not in columns:\n",
    "        raise ValueError(f\"Столбец '{droped_column}' не найден в списке столбцов.\")\n",
    "    \n",
    "    # Загрузка данных из TSV файла\n",
    "    data = pd.read_csv(file_path, encoding='utf-8', header=None, \n",
    "                                 names=columns, \n",
    "                                 sep='\\t', index_col=0)\n",
    "\n",
    "    # Удаление дубликтов\n",
    "    data = data.drop_duplicates()\n",
    "    data = data.reset_index(drop=True)\n",
    "\n",
    "    # Применение функции к столбцу unified_column\n",
    "    unified_cash = unify_cash_format(data[unified_column])\n",
    "\n",
    "    # Обновление столбца unified_column в data\n",
    "    data[unified_column] = unified_cash\n",
    "\n",
    "    # Удаление столбца droped_column из data\n",
    "    data = data.drop(droped_column, axis=1)\n",
    "\n",
    "    return data  # Возвращаем обновленный DataFrame"
   ]
  },
  {
   "cell_type": "markdown",
   "metadata": {},
   "source": [
    "Предобработаем размеченный датасет с помощью функции для предобработки и сохраним его."
   ]
  },
  {
   "cell_type": "code",
   "execution_count": 81,
   "metadata": {},
   "outputs": [
    {
     "data": {
      "text/html": [
       "<div>\n",
       "<style scoped>\n",
       "    .dataframe tbody tr th:only-of-type {\n",
       "        vertical-align: middle;\n",
       "    }\n",
       "\n",
       "    .dataframe tbody tr th {\n",
       "        vertical-align: top;\n",
       "    }\n",
       "\n",
       "    .dataframe thead th {\n",
       "        text-align: right;\n",
       "    }\n",
       "</style>\n",
       "<table border=\"1\" class=\"dataframe\">\n",
       "  <thead>\n",
       "    <tr style=\"text-align: right;\">\n",
       "      <th></th>\n",
       "      <th>cash</th>\n",
       "      <th>description</th>\n",
       "      <th>type</th>\n",
       "    </tr>\n",
       "  </thead>\n",
       "  <tbody>\n",
       "    <tr>\n",
       "      <th>0</th>\n",
       "      <td>15300.0</td>\n",
       "      <td>За участие в конференции в г. Майкоп по догово...</td>\n",
       "      <td>SERVICE</td>\n",
       "    </tr>\n",
       "    <tr>\n",
       "      <th>1</th>\n",
       "      <td>40200.0</td>\n",
       "      <td>За оказание услуг по договору №79-02726В от 01...</td>\n",
       "      <td>SERVICE</td>\n",
       "    </tr>\n",
       "    <tr>\n",
       "      <th>2</th>\n",
       "      <td>1440.0</td>\n",
       "      <td>Оплата за Порошок стиральный Ariel Color autom...</td>\n",
       "      <td>NON_FOOD_GOODS</td>\n",
       "    </tr>\n",
       "    <tr>\n",
       "      <th>3</th>\n",
       "      <td>240000000.0</td>\n",
       "      <td>Возврат денежных средств по договору займа №04...</td>\n",
       "      <td>LOAN</td>\n",
       "    </tr>\n",
       "    <tr>\n",
       "      <th>4</th>\n",
       "      <td>1360000.0</td>\n",
       "      <td>Оплата Дог №452 от 13/03/2021, согл. Сч 0745-2...</td>\n",
       "      <td>NOT_CLASSIFIED</td>\n",
       "    </tr>\n",
       "    <tr>\n",
       "      <th>...</th>\n",
       "      <td>...</td>\n",
       "      <td>...</td>\n",
       "      <td>...</td>\n",
       "    </tr>\n",
       "    <tr>\n",
       "      <th>494</th>\n",
       "      <td>2610.0</td>\n",
       "      <td>Оплата налогов</td>\n",
       "      <td>TAX</td>\n",
       "    </tr>\n",
       "    <tr>\n",
       "      <th>495</th>\n",
       "      <td>31200.0</td>\n",
       "      <td>Комиссия за выполнение функций агента валютног...</td>\n",
       "      <td>BANK_SERVICE</td>\n",
       "    </tr>\n",
       "    <tr>\n",
       "      <th>496</th>\n",
       "      <td>18200.0</td>\n",
       "      <td>За тур.поездку по договору №75-04243Г от 24/04...</td>\n",
       "      <td>SERVICE</td>\n",
       "    </tr>\n",
       "    <tr>\n",
       "      <th>497</th>\n",
       "      <td>2870000.0</td>\n",
       "      <td>Оплата по договору №095 от 24.02.2025г, счету ...</td>\n",
       "      <td>FOOD_GOODS</td>\n",
       "    </tr>\n",
       "    <tr>\n",
       "      <th>498</th>\n",
       "      <td>2210.0</td>\n",
       "      <td>Оплата коммунальных услуг</td>\n",
       "      <td>SERVICE</td>\n",
       "    </tr>\n",
       "  </tbody>\n",
       "</table>\n",
       "<p>499 rows × 3 columns</p>\n",
       "</div>"
      ],
      "text/plain": [
       "            cash                                        description  \\\n",
       "0        15300.0  За участие в конференции в г. Майкоп по догово...   \n",
       "1        40200.0  За оказание услуг по договору №79-02726В от 01...   \n",
       "2         1440.0  Оплата за Порошок стиральный Ariel Color autom...   \n",
       "3    240000000.0  Возврат денежных средств по договору займа №04...   \n",
       "4      1360000.0  Оплата Дог №452 от 13/03/2021, согл. Сч 0745-2...   \n",
       "..           ...                                                ...   \n",
       "494       2610.0                                     Оплата налогов   \n",
       "495      31200.0  Комиссия за выполнение функций агента валютног...   \n",
       "496      18200.0  За тур.поездку по договору №75-04243Г от 24/04...   \n",
       "497    2870000.0  Оплата по договору №095 от 24.02.2025г, счету ...   \n",
       "498       2210.0                          Оплата коммунальных услуг   \n",
       "\n",
       "               type  \n",
       "0           SERVICE  \n",
       "1           SERVICE  \n",
       "2    NON_FOOD_GOODS  \n",
       "3              LOAN  \n",
       "4    NOT_CLASSIFIED  \n",
       "..              ...  \n",
       "494             TAX  \n",
       "495    BANK_SERVICE  \n",
       "496         SERVICE  \n",
       "497      FOOD_GOODS  \n",
       "498         SERVICE  \n",
       "\n",
       "[499 rows x 3 columns]"
      ]
     },
     "execution_count": 81,
     "metadata": {},
     "output_type": "execute_result"
    }
   ],
   "source": [
    "data_markedup_path = '../data/payments_training.tsv'\n",
    "save_data_markedup_clear_path = '../data/data_markedup_clear.tsv'\n",
    "\n",
    "processed_data_markedup = preprocess_data(data_markedup_path, ['index', 'date', 'cash', 'description', 'type'], 'cash', 'date')\n",
    "\n",
    "processed_data_markedup.to_csv(save_data_markedup_clear_path, sep='\\t', index=False)\n",
    "processed_data_markedup"
   ]
  },
  {
   "cell_type": "markdown",
   "metadata": {},
   "source": [
    "Аналогично предобработаем и сохраним неразмеченный датасет."
   ]
  },
  {
   "cell_type": "code",
   "execution_count": 82,
   "metadata": {},
   "outputs": [
    {
     "data": {
      "text/html": [
       "<div>\n",
       "<style scoped>\n",
       "    .dataframe tbody tr th:only-of-type {\n",
       "        vertical-align: middle;\n",
       "    }\n",
       "\n",
       "    .dataframe tbody tr th {\n",
       "        vertical-align: top;\n",
       "    }\n",
       "\n",
       "    .dataframe thead th {\n",
       "        text-align: right;\n",
       "    }\n",
       "</style>\n",
       "<table border=\"1\" class=\"dataframe\">\n",
       "  <thead>\n",
       "    <tr style=\"text-align: right;\">\n",
       "      <th></th>\n",
       "      <th>cash</th>\n",
       "      <th>description</th>\n",
       "    </tr>\n",
       "  </thead>\n",
       "  <tbody>\n",
       "    <tr>\n",
       "      <th>0</th>\n",
       "      <td>40500.0</td>\n",
       "      <td>За тур.поездку по договору №001 от 27.01.2023г</td>\n",
       "    </tr>\n",
       "    <tr>\n",
       "      <th>1</th>\n",
       "      <td>32600.0</td>\n",
       "      <td>За оказание услуг по договору №53Б-02746 от 23...</td>\n",
       "    </tr>\n",
       "    <tr>\n",
       "      <th>2</th>\n",
       "      <td>4710.0</td>\n",
       "      <td>Оплата штрафа</td>\n",
       "    </tr>\n",
       "    <tr>\n",
       "      <th>3</th>\n",
       "      <td>30900.0</td>\n",
       "      <td>Лечение по договору №Д-00359/24 от 08.03.2025</td>\n",
       "    </tr>\n",
       "    <tr>\n",
       "      <th>4</th>\n",
       "      <td>13200.0</td>\n",
       "      <td>Оплата основного долга за период с 16.12.2024г...</td>\n",
       "    </tr>\n",
       "    <tr>\n",
       "      <th>...</th>\n",
       "      <td>...</td>\n",
       "      <td>...</td>\n",
       "    </tr>\n",
       "    <tr>\n",
       "      <th>24753</th>\n",
       "      <td>3300000.0</td>\n",
       "      <td>Оплата по договору №Е01905 от 25.02.2023. сырь...</td>\n",
       "    </tr>\n",
       "    <tr>\n",
       "      <th>24754</th>\n",
       "      <td>2270.0</td>\n",
       "      <td>гос.услуга</td>\n",
       "    </tr>\n",
       "    <tr>\n",
       "      <th>24755</th>\n",
       "      <td>1750000.0</td>\n",
       "      <td>Предоставление кредита по договору №Д-00803/03...</td>\n",
       "    </tr>\n",
       "    <tr>\n",
       "      <th>24756</th>\n",
       "      <td>3560.0</td>\n",
       "      <td>Оплата гос. пошлины</td>\n",
       "    </tr>\n",
       "    <tr>\n",
       "      <th>24757</th>\n",
       "      <td>2910.0</td>\n",
       "      <td>Оплата за Подушечки Любятово с шоколадной начи...</td>\n",
       "    </tr>\n",
       "  </tbody>\n",
       "</table>\n",
       "<p>24758 rows × 2 columns</p>\n",
       "</div>"
      ],
      "text/plain": [
       "            cash                                        description\n",
       "0        40500.0     За тур.поездку по договору №001 от 27.01.2023г\n",
       "1        32600.0  За оказание услуг по договору №53Б-02746 от 23...\n",
       "2         4710.0                                      Оплата штрафа\n",
       "3        30900.0      Лечение по договору №Д-00359/24 от 08.03.2025\n",
       "4        13200.0  Оплата основного долга за период с 16.12.2024г...\n",
       "...          ...                                                ...\n",
       "24753  3300000.0  Оплата по договору №Е01905 от 25.02.2023. сырь...\n",
       "24754     2270.0                                         гос.услуга\n",
       "24755  1750000.0  Предоставление кредита по договору №Д-00803/03...\n",
       "24756     3560.0                                Оплата гос. пошлины\n",
       "24757     2910.0  Оплата за Подушечки Любятово с шоколадной начи...\n",
       "\n",
       "[24758 rows x 2 columns]"
      ]
     },
     "execution_count": 82,
     "metadata": {},
     "output_type": "execute_result"
    }
   ],
   "source": [
    "data_path = '../data/payments_main.tsv'\n",
    "save_data_clear_path = '../data/data_clear.tsv'\n",
    "\n",
    "processed_data = preprocess_data(data_path, ['index', 'date', 'cash', 'description'], 'cash', 'date')\n",
    "\n",
    "processed_data.to_csv(save_data_clear_path, sep='\\t', index=False)\n",
    "processed_data"
   ]
  }
 ],
 "metadata": {
  "kernelspec": {
   "display_name": "venv",
   "language": "python",
   "name": "python3"
  },
  "language_info": {
   "codemirror_mode": {
    "name": "ipython",
    "version": 3
   },
   "file_extension": ".py",
   "mimetype": "text/x-python",
   "name": "python",
   "nbconvert_exporter": "python",
   "pygments_lexer": "ipython3",
   "version": "3.12.1"
  }
 },
 "nbformat": 4,
 "nbformat_minor": 2
}
